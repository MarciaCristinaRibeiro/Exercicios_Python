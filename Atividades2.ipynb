{
  "nbformat": 4,
  "nbformat_minor": 0,
  "metadata": {
    "colab": {
      "provenance": [],
      "toc_visible": true,
      "authorship_tag": "ABX9TyOx0axc+S6NXVXJIrEQsyjz",
      "include_colab_link": true
    },
    "kernelspec": {
      "name": "python3",
      "display_name": "Python 3"
    },
    "language_info": {
      "name": "python"
    }
  },
  "cells": [
    {
      "cell_type": "markdown",
      "metadata": {
        "id": "view-in-github",
        "colab_type": "text"
      },
      "source": [
        "<a href=\"https://colab.research.google.com/github/MarciaCristinaRibeiro/Exercicios_Python/blob/Scripts_Python/Atividades2.ipynb\" target=\"_parent\"><img src=\"https://colab.research.google.com/assets/colab-badge.svg\" alt=\"Open In Colab\"/></a>"
      ]
    },
    {
      "cell_type": "markdown",
      "source": [
        "##**Atividades de Negócios com Python 2**\n",
        "\n",
        "Escola: SoulCode Academy\n",
        "\n",
        "Curso: Analista de Dados e Dashboards\n",
        "\n",
        "Período: Noturno\n",
        "\n",
        "Assunto: Python\n",
        "\n",
        "Professor: Franciane Rodrigues\n",
        "\n",
        "Aluna: Marcia Cristina Ribeiro da Silva Oliveira"
      ],
      "metadata": {
        "id": "fgK5nr_xd6sK"
      }
    },
    {
      "cell_type": "markdown",
      "source": [
        "## Atividade 1:\n",
        " * Contagem de Vendas: Uma loja de eletrônicos deseja saber quantos produtos de cada tipo foram vendidos durante a semana. Escreva um programa em Python que solicite ao usuário a quantidade de vendas de três tipos de produtos: smartphones, laptops e tablets. O programa deve calcular e exibir o total de vendas de cada tipo."
      ],
      "metadata": {
        "id": "LLbMb9vojm-f"
      }
    },
    {
      "cell_type": "code",
      "source": [
        "# 1º - Boas vindas ao sistema\n",
        "#print('Bem-vindo ao sistema de controle de vendas da Eletric S/A')\n",
        "\n",
        "# 2º - Definir as variáveis com os preços dos produtos para facilitar as contas\n",
        "vlr_smartphones = 1750.50\n",
        "vlr_laptops = 2100.80\n",
        "vlr_tablets = 550.30\n",
        "\n",
        "# 3º - Solicitar ao usuário que insira a quantidade de vendas dos produtos para a realização do cálculo\n",
        "smartphones = int(input('Digite a quantidade de smartphones vendidos: '))\n",
        "laptops = int(input('Digite a quantidade de laptops vendidos: '))\n",
        "tablets = int(input('Digite a quantidade de tablets vendidos: '))\n",
        "\n",
        "# 4º - Calcular o total das vendas por produto\n",
        "total_smartphones = smartphones * vlr_smartphones\n",
        "total_laptops = laptops * vlr_laptops\n",
        "total_tablets = tablets * vlr_tablets\n",
        "\n",
        "# 5º - Exibir o total de vendas de cada tipo de produto\n",
        "print(f'Total de vendas de smartphones: {total_smartphones:.2f}')\n",
        "print(f'Total de vendas de laptops: {total_laptops:.2f}')\n",
        "print(f'Total de vendas de tablets: {total_tablets:.2f}')\n",
        "\n",
        "# 6º - Exibir a soma dos produtos vendidos e do valor total geral\n",
        "soma_prod = (smartphones + laptops + tablets)\n",
        "vlr_total = (total_smartphones + total_laptops + total_tablets)\n",
        "print(f'Esta semana foram vendidos {soma_prod:}, produtos totalizando R$ {vlr_total:.2f}.')"
      ],
      "metadata": {
        "colab": {
          "base_uri": "https://localhost:8080/"
        },
        "id": "4uPWW2MyyGUS",
        "outputId": "e8998b94-3b03-4f3a-e70d-7ee928264ae9"
      },
      "execution_count": 1,
      "outputs": [
        {
          "output_type": "stream",
          "name": "stdout",
          "text": [
            "Digite a quantidade de smartphones vendidos: 2\n",
            "Digite a quantidade de laptops vendidos: 3\n",
            "Digite a quantidade de tablets vendidos: 5\n",
            "Total de vendas de smartphones: 3501.00\n",
            "Total de vendas de laptops: 6302.40\n",
            "Total de vendas de tablets: 2751.50\n",
            "Esta semana foram vendidos 10, produtos totalizando R$ 12554.90.\n"
          ]
        }
      ]
    }
  ]
}