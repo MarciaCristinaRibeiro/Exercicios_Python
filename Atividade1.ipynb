{
  "nbformat": 4,
  "nbformat_minor": 0,
  "metadata": {
    "colab": {
      "provenance": [],
      "authorship_tag": "ABX9TyO5QCRW+7mduSn6FNoC98yN",
      "include_colab_link": true
    },
    "kernelspec": {
      "name": "python3",
      "display_name": "Python 3"
    },
    "language_info": {
      "name": "python"
    }
  },
  "cells": [
    {
      "cell_type": "markdown",
      "metadata": {
        "id": "view-in-github",
        "colab_type": "text"
      },
      "source": [
        "<a href=\"https://colab.research.google.com/github/MarciaCristinaRibeiro/Exercicios_Python/blob/Scripts_Python/Atividade1.ipynb\" target=\"_parent\"><img src=\"https://colab.research.google.com/assets/colab-badge.svg\" alt=\"Open In Colab\"/></a>"
      ]
    },
    {
      "cell_type": "code",
      "execution_count": null,
      "metadata": {
        "id": "8hW4ubU8-IEe"
      },
      "outputs": [],
      "source": []
    },
    {
      "cell_type": "markdown",
      "source": [
        "MÓDULO 1: PYTHON PARA PROGRAMADORES\n",
        "\n",
        "Exercício: Atividades de Negócios com Python\n",
        "\n",
        "Introdução ao Python\n",
        "\n",
        "Escola: SoulCode Academy\n",
        "\n",
        "Curso: Analista de Dados e Dashboards\n",
        "\n",
        "Período: Noturno\n",
        "\n",
        "Assunto: Python\n",
        "\n",
        "Professor: Franciane Rodrigues\n",
        "\n",
        "Aluna: Marcia Cristina Ribeiro da Silva Oliveira"
      ],
      "metadata": {
        "id": "pSQThMJ7-d2l"
      }
    },
    {
      "cell_type": "markdown",
      "source": [
        "## **1. Laboratório de Ciências**\n",
        "\n",
        "* Você trabalha em um laboratório químico e toda vez que você realiza um experimento as temperaturas\n",
        "estão em Fahrenheit ou Celsius. Crie um algoritmo que realize a conversão para Kelvin para facilitar sua vida de quem lê os manuais."
      ],
      "metadata": {
        "id": "iaE8-KOU-zC8"
      }
    },
    {
      "cell_type": "code",
      "source": [
        "# Definindo as variáveis\n",
        "\n",
        "fahr = 'F'\n",
        "cels = 'C'\n",
        "\n",
        "# Entrada dos dados\n",
        "\n",
        "operacao = input('Digite a temperatura escolhida, sendo F para Fahrenheit ou C para Celsius: ')\n",
        "temp = float(input('Digite a temperatura realizada no experimento: '))\n",
        "\n",
        "# Fórmula\n",
        "\n",
        "if operacao == 'F':\n",
        "  K = (temp - 32) / 1.8 + 273.15\n",
        "  print(f'A temperatura encontrada foi de {K:.2f}', 'Graus Kelvin!')\n",
        "elif operacao == 'C':\n",
        "  K = temp + 273.15\n",
        "  print(f'A temperatura encontrada foi de {K:.2f}', 'Graus Kelvin!')\n",
        "else:\n",
        "  print('Temperatura não encontrada')\n"
      ],
      "metadata": {
        "colab": {
          "base_uri": "https://localhost:8080/"
        },
        "id": "Cw-h6BlE_aUY",
        "outputId": "5b0b1407-8c98-4e93-fd40-2b61bad415ff"
      },
      "execution_count": null,
      "outputs": [
        {
          "output_type": "stream",
          "name": "stdout",
          "text": [
            "Digite a temperatura escolhida, sendo F para Fahrenheit ou C para Celsius: F\n",
            "Digite a temperatura realizada no experimento: 39\n",
            "A temperatura encontrada foi de 277.04 Graus Kelvin!\n"
          ]
        }
      ]
    },
    {
      "cell_type": "markdown",
      "source": [
        "## **5. Simulação de Venda**\n",
        "\n",
        "Tentei fazer o 5 porque achei bastante desafiador e por isso quis tentar realiza-lo.\n",
        "\n",
        "* (a) Crie um programa que simula a venda de um produto. O programa deve:\n",
        "Coletar informações do usuário: nome do cliente, nome do produto,\n",
        "preço do produto e quantidade desejada.\n",
        "Calcular o valor total da compra: multiplicar o preço do produto\n",
        "pela quantidade desejada.\n",
        "Exibir o valor total da compra para o usuário.\n",
        "* (b) Adicione um desconto de 10% para compras acima de R$ 100,00.\n",
        "* (c) Implemente a opção de pagamento com cartão de crédito ou dinheiro."
      ],
      "metadata": {
        "id": "nsr5zkbjSWVB"
      }
    },
    {
      "cell_type": "code",
      "source": [
        "# Definindo Variáveis\n",
        "preco = 10.99\n",
        "desconto = 0.10\n",
        "\n",
        "# (A) Entrada dos dados\n",
        "cliente = input('Digite seu nome: ')\n",
        "produto = input('Digite o nome do produto a ser adquirido: ')\n",
        "qtd = float(input('Digite a quantidade desejada: '))\n",
        "\n",
        "# Estrutura\n",
        "vCompra = qtd * preco\n",
        "print(f'O valor total da compra é de R$ {vCompra:.2f}.')\n",
        "\n",
        "# (B) Se houver compra acima de R$ 100.00\n",
        "if vCompra > 100:\n",
        "  vCompra = vCompra - (vCompra * desconto)\n",
        "  print(f'Parábens, para compras acima de R$ 100,00, você ganhou um desconto de 10% e o valor total de sua compra é de R$ {vCompra:.2f}.')\n",
        "\n",
        "\n",
        "# (C) Finalizando a compra\n",
        "pagamento = input('Como deseja realizar o pagamento, com cartão ou com dinheiro?')\n",
        "if pagamento == 'cartão':\n",
        "  cart = input('Por favor, digite o número do seu cartão: ')\n",
        "  print('Obrigado e volte sempre!!!!')\n",
        "elif pagamento == 'dinheiro':\n",
        "  dinh = input('Precisa de troco?')\n",
        "  print('Obrigado e volte sempre!!!!')\n",
        "else:\n",
        "  print('Defina o tipo de pagamento a ser realizado!!!')\n"
      ],
      "metadata": {
        "colab": {
          "base_uri": "https://localhost:8080/"
        },
        "id": "zsmRVN_OSiLu",
        "outputId": "f44dc7af-b3c1-43c0-fe49-a9a1be4c4878"
      },
      "execution_count": null,
      "outputs": [
        {
          "output_type": "stream",
          "name": "stdout",
          "text": [
            "Digite seu nome: Márcia\n",
            "Digite o nome do produto a ser adquirido: pijama\n",
            "Digite a quantidade desejada: 10\n",
            "O valor total da compra é de R$ 109.90\n",
            "Parábens, para compras acima de R$ 100,00, você ganhou um desconto de 10% e o valor total de sua compra é de R$ 98.91\n",
            "Como deseja realizar o pagamento, com cartão ou com dinheiro?cartão\n",
            "Por favor, digite o número do cartão: 123456\n",
            "Obrigado e volte sempre\n"
          ]
        }
      ]
    }
  ]
}