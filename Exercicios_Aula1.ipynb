{
  "nbformat": 4,
  "nbformat_minor": 0,
  "metadata": {
    "colab": {
      "provenance": [],
      "authorship_tag": "ABX9TyNNhlPht/yRDfQ51//VE8e3",
      "include_colab_link": true
    },
    "kernelspec": {
      "name": "python3",
      "display_name": "Python 3"
    },
    "language_info": {
      "name": "python"
    }
  },
  "cells": [
    {
      "cell_type": "markdown",
      "metadata": {
        "id": "view-in-github",
        "colab_type": "text"
      },
      "source": [
        "<a href=\"https://colab.research.google.com/github/MarciaCristinaRibeiro/Exercicios_Python/blob/Scripts_Python/Exercicios_Aula1.ipynb\" target=\"_parent\"><img src=\"https://colab.research.google.com/assets/colab-badge.svg\" alt=\"Open In Colab\"/></a>"
      ]
    },
    {
      "cell_type": "code",
      "execution_count": null,
      "metadata": {
        "id": "jMbjCS17isH1"
      },
      "outputs": [],
      "source": []
    },
    {
      "cell_type": "markdown",
      "source": [
        "# **Operações Matemática**"
      ],
      "metadata": {
        "id": "gOi6N9_ciw9h"
      }
    },
    {
      "cell_type": "code",
      "source": [
        "import numpy"
      ],
      "metadata": {
        "id": "hRdYuyJCjaet"
      },
      "execution_count": null,
      "outputs": []
    },
    {
      "cell_type": "code",
      "source": [
        "#1. Some os números: 10,30\n",
        "numpy.sum([10,30])\n"
      ],
      "metadata": {
        "colab": {
          "base_uri": "https://localhost:8080/"
        },
        "id": "QCDtMsgyjPYM",
        "outputId": "1e4d1294-617f-4780-8528-a22e5ec58308"
      },
      "execution_count": null,
      "outputs": [
        {
          "output_type": "execute_result",
          "data": {
            "text/plain": [
              "40"
            ]
          },
          "metadata": {},
          "execution_count": 2
        }
      ]
    },
    {
      "cell_type": "code",
      "source": [
        "#2. Some os números: 10,300,0.4,10\n",
        "numpy.sum([10,300,0.4,10])"
      ],
      "metadata": {
        "colab": {
          "base_uri": "https://localhost:8080/"
        },
        "id": "_-ibvGzpjtAB",
        "outputId": "3d766ef1-9131-4c9f-f2ce-1c32080ce359"
      },
      "execution_count": null,
      "outputs": [
        {
          "output_type": "execute_result",
          "data": {
            "text/plain": [
              "320.4"
            ]
          },
          "metadata": {},
          "execution_count": 3
        }
      ]
    },
    {
      "cell_type": "code",
      "source": [
        "#3. Some os números: 10,0,30\n",
        "numpy.sum([10,0,30])"
      ],
      "metadata": {
        "colab": {
          "base_uri": "https://localhost:8080/"
        },
        "id": "2DO4ac-6j-kG",
        "outputId": "6f3d7a91-6574-4e72-b7d6-b3048b7caef5"
      },
      "execution_count": null,
      "outputs": [
        {
          "output_type": "execute_result",
          "data": {
            "text/plain": [
              "40"
            ]
          },
          "metadata": {},
          "execution_count": 4
        }
      ]
    },
    {
      "cell_type": "code",
      "source": [
        "#4. Subtraia os números: 10,30\n",
        "numpy.subtract(10,30)"
      ],
      "metadata": {
        "colab": {
          "base_uri": "https://localhost:8080/"
        },
        "id": "UM_9vml2kPR8",
        "outputId": "d6b1621f-3766-4144-8196-9b6330182efe"
      },
      "execution_count": null,
      "outputs": [
        {
          "output_type": "execute_result",
          "data": {
            "text/plain": [
              "-20"
            ]
          },
          "metadata": {},
          "execution_count": 5
        }
      ]
    },
    {
      "cell_type": "code",
      "source": [
        "#5. Subtrais os números: 0,5\n",
        "numpy.subtract(0,5)"
      ],
      "metadata": {
        "colab": {
          "base_uri": "https://localhost:8080/"
        },
        "id": "MQXgNFx4kX1v",
        "outputId": "d2b7b12c-db6e-4ddc-f6be-8ee73b6da2c0"
      },
      "execution_count": null,
      "outputs": [
        {
          "output_type": "execute_result",
          "data": {
            "text/plain": [
              "-5"
            ]
          },
          "metadata": {},
          "execution_count": 6
        }
      ]
    },
    {
      "cell_type": "code",
      "source": [
        "#6. Subtraia os números: 5,0\n",
        "numpy.subtract(5,0)"
      ],
      "metadata": {
        "colab": {
          "base_uri": "https://localhost:8080/"
        },
        "id": "zZtTr7GtkhQ1",
        "outputId": "c596a2d2-3da8-47d2-d1b7-1fe112162623"
      },
      "execution_count": null,
      "outputs": [
        {
          "output_type": "execute_result",
          "data": {
            "text/plain": [
              "5"
            ]
          },
          "metadata": {},
          "execution_count": 7
        }
      ]
    },
    {
      "cell_type": "code",
      "source": [
        "#7. Multiplique os números: 10,30\n",
        "numpy.multiply(10,30)"
      ],
      "metadata": {
        "colab": {
          "base_uri": "https://localhost:8080/"
        },
        "id": "Lbb52eu6ko0c",
        "outputId": "2ddbd0e4-7e94-4631-dbbd-da28757a99d7"
      },
      "execution_count": null,
      "outputs": [
        {
          "output_type": "execute_result",
          "data": {
            "text/plain": [
              "300"
            ]
          },
          "metadata": {},
          "execution_count": 8
        }
      ]
    },
    {
      "cell_type": "code",
      "source": [
        "#8. Multiplique os números: 0,6\n",
        "numpy.multiply(0,6)"
      ],
      "metadata": {
        "colab": {
          "base_uri": "https://localhost:8080/"
        },
        "id": "HEY08chnk0Sc",
        "outputId": "14f2fb5b-01c3-400f-8f3b-6a79f2424bcc"
      },
      "execution_count": null,
      "outputs": [
        {
          "output_type": "execute_result",
          "data": {
            "text/plain": [
              "0"
            ]
          },
          "metadata": {},
          "execution_count": 9
        }
      ]
    },
    {
      "cell_type": "code",
      "source": [
        "#9. Multiplique os números: 5,3\n",
        "numpy.multiply(5,3)"
      ],
      "metadata": {
        "colab": {
          "base_uri": "https://localhost:8080/"
        },
        "id": "kKfvnJy_k_B_",
        "outputId": "94aec4bc-90de-411a-8e77-5ea236a9a9f8"
      },
      "execution_count": null,
      "outputs": [
        {
          "output_type": "execute_result",
          "data": {
            "text/plain": [
              "15"
            ]
          },
          "metadata": {},
          "execution_count": 10
        }
      ]
    },
    {
      "cell_type": "code",
      "source": [
        "#10. Escreva na tela a palavra ('Hello World')\n",
        "print('Hello World')"
      ],
      "metadata": {
        "colab": {
          "base_uri": "https://localhost:8080/"
        },
        "id": "sbFdmSphlG2l",
        "outputId": "f23ace52-de8a-4a38-e02e-e97b3db5d825"
      },
      "execution_count": null,
      "outputs": [
        {
          "output_type": "stream",
          "name": "stdout",
          "text": [
            "Hello World\n"
          ]
        }
      ]
    },
    {
      "cell_type": "code",
      "source": [
        "#11. Escreva na tela a palavra ('Vamos DS')\n",
        "print('Vamos DS')"
      ],
      "metadata": {
        "colab": {
          "base_uri": "https://localhost:8080/"
        },
        "id": "zEwaGWFZlVVa",
        "outputId": "d22f5bed-9d9e-495c-e9bf-5c5830ce761d"
      },
      "execution_count": null,
      "outputs": [
        {
          "output_type": "stream",
          "name": "stdout",
          "text": [
            "Vamos DS\n"
          ]
        }
      ]
    },
    {
      "cell_type": "code",
      "source": [
        "#12. Escreva na tela a palavra ('Começando a caminhada')\n",
        "print('Começando a caminhada')"
      ],
      "metadata": {
        "colab": {
          "base_uri": "https://localhost:8080/"
        },
        "id": "TOW88X4qld_Q",
        "outputId": "ebc437c3-6b28-4be6-aa84-455509aba6dd"
      },
      "execution_count": null,
      "outputs": [
        {
          "output_type": "stream",
          "name": "stdout",
          "text": [
            "Começando a caminhada\n"
          ]
        }
      ]
    },
    {
      "cell_type": "code",
      "source": [
        "#13. Escreva na tela a palavra ('Aula 01 Começou!!!')\n",
        "print('Aula 01 Começou!!!')"
      ],
      "metadata": {
        "colab": {
          "base_uri": "https://localhost:8080/"
        },
        "id": "A8fY94fZlnyQ",
        "outputId": "4d850d85-03a8-4d03-983c-f3f2a725486e"
      },
      "execution_count": null,
      "outputs": [
        {
          "output_type": "stream",
          "name": "stdout",
          "text": [
            "Aula 01 Começou!!!\n"
          ]
        }
      ]
    }
  ]
}