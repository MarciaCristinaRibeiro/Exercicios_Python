{
  "nbformat": 4,
  "nbformat_minor": 0,
  "metadata": {
    "colab": {
      "provenance": [],
      "authorship_tag": "ABX9TyMvm3HGPIzYylbzAUK7F/Dh",
      "include_colab_link": true
    },
    "kernelspec": {
      "name": "python3",
      "display_name": "Python 3"
    },
    "language_info": {
      "name": "python"
    }
  },
  "cells": [
    {
      "cell_type": "markdown",
      "metadata": {
        "id": "view-in-github",
        "colab_type": "text"
      },
      "source": [
        "<a href=\"https://colab.research.google.com/github/MarciaCristinaRibeiro/Exercicios_Python/blob/Scripts_Python/aula_03_SoulCode.ipynb\" target=\"_parent\"><img src=\"https://colab.research.google.com/assets/colab-badge.svg\" alt=\"Open In Colab\"/></a>"
      ]
    },
    {
      "cell_type": "code",
      "execution_count": null,
      "metadata": {
        "id": "PxnsPKH76Iyd"
      },
      "outputs": [],
      "source": []
    },
    {
      "cell_type": "markdown",
      "source": [
        "# Introdução ao Python\n",
        "Escola: SoulCode Academy\n",
        "\n",
        "Curso: Analista de Dados e Dashboards\n",
        "\n",
        "Período: Noturno\n",
        "\n",
        "Assunto: Python\n",
        "\n",
        "Professor: Franciane Rodrigues\n",
        "\n",
        "Aluna: Márcia"
      ],
      "metadata": {
        "id": "Q-23Izx86JoM"
      }
    },
    {
      "cell_type": "markdown",
      "source": [
        "## **Operadores Matemáticos** ##"
      ],
      "metadata": {
        "id": "Oo_7uEtL79Zu"
      }
    },
    {
      "cell_type": "code",
      "source": [
        "# Operador de adição\n",
        "n1 = 5.887\n",
        "n2 = 7.15\n",
        "soma = n1 + n2"
      ],
      "metadata": {
        "id": "ZjcKsEqk6WoG"
      },
      "execution_count": null,
      "outputs": []
    },
    {
      "cell_type": "code",
      "source": [
        "# Modos de apresentação de resultados: adição\n",
        "print(soma)\n",
        "print('A soma é: ', soma)\n",
        "print(f'A soma dos números é: {soma:.2f}')\n",
        "print(n1 + n2)\n",
        "n1 + n2"
      ],
      "metadata": {
        "colab": {
          "base_uri": "https://localhost:8080/"
        },
        "id": "r1Fe_ZbR6OXl",
        "outputId": "423c6834-167b-4fe3-8bb6-ab50d28d5ccf"
      },
      "execution_count": null,
      "outputs": [
        {
          "output_type": "stream",
          "name": "stdout",
          "text": [
            "13.036999999999999\n",
            "A soma é:  13.036999999999999\n",
            "A soma dos números é: 13.04\n",
            "13.036999999999999\n"
          ]
        },
        {
          "output_type": "execute_result",
          "data": {
            "text/plain": [
              "13.036999999999999"
            ]
          },
          "metadata": {},
          "execution_count": 5
        }
      ]
    },
    {
      "cell_type": "code",
      "source": [
        "# Operador de subtração\n",
        "a1 = 154.587\n",
        "a2 = 10.548\n",
        "sub = a1 - a2"
      ],
      "metadata": {
        "id": "NoaU-C8F-9br"
      },
      "execution_count": null,
      "outputs": []
    },
    {
      "cell_type": "code",
      "source": [
        "# Modos de apresentação de resultados: subtração\n",
        "print(sub)\n",
        "print('A subtração é: ', sub)\n",
        "print(f'A subtração dos números é: {sub:.2f}')\n",
        "print(a1 - a2)\n",
        "a1 - a2"
      ],
      "metadata": {
        "colab": {
          "base_uri": "https://localhost:8080/"
        },
        "id": "HEIa0ACO_Q1u",
        "outputId": "8deb30c4-43cc-43df-bfd8-6917e19320fc"
      },
      "execution_count": null,
      "outputs": [
        {
          "output_type": "stream",
          "name": "stdout",
          "text": [
            "144.039\n",
            "A subtração é:  144.039\n",
            "A subtração dos números é: 144.04\n",
            "144.039\n"
          ]
        },
        {
          "output_type": "execute_result",
          "data": {
            "text/plain": [
              "144.039"
            ]
          },
          "metadata": {},
          "execution_count": 9
        }
      ]
    },
    {
      "cell_type": "code",
      "source": [
        "# Operador de multiplicação\n",
        "b1 = 3.57\n",
        "multi = b1 * 3\n",
        "print('A multiplicação é: ', round(multi,2))"
      ],
      "metadata": {
        "colab": {
          "base_uri": "https://localhost:8080/"
        },
        "id": "8KmO0WDo_2zK",
        "outputId": "83248531-b3ec-4ea8-c09b-f1147293b358"
      },
      "execution_count": null,
      "outputs": [
        {
          "output_type": "stream",
          "name": "stdout",
          "text": [
            "A multiplicação é:  10.71\n"
          ]
        }
      ]
    },
    {
      "cell_type": "code",
      "source": [
        "# Operador de divisão\n",
        "x1 = 3\n",
        "x2 = 2\n",
        "div = x1 / x2\n",
        "\n",
        "print(div)\n",
        "print(f'A divisão dos números é: {div:.2f}')"
      ],
      "metadata": {
        "colab": {
          "base_uri": "https://localhost:8080/"
        },
        "id": "brQlU3NCDcOk",
        "outputId": "0dc42c9f-7644-4ed0-b6f3-5d6c008d3cf3"
      },
      "execution_count": null,
      "outputs": [
        {
          "output_type": "stream",
          "name": "stdout",
          "text": [
            "1.5\n",
            "A divisão dos números é: 1.50\n"
          ]
        }
      ]
    },
    {
      "cell_type": "code",
      "source": [
        "# Módulo - Resto\n",
        "# Resto da divisão\n",
        "rdiv = 10 % 3\n",
        "print (rdiv)"
      ],
      "metadata": {
        "colab": {
          "base_uri": "https://localhost:8080/"
        },
        "id": "Ld-kFPDFEt4Q",
        "outputId": "d0518001-e9a0-4175-ba05-ba530d7d8b57"
      },
      "execution_count": null,
      "outputs": [
        {
          "output_type": "stream",
          "name": "stdout",
          "text": [
            "1\n"
          ]
        }
      ]
    },
    {
      "cell_type": "code",
      "source": [
        "# Parte inteira da divisão\n",
        "idiv = 10 // 3\n",
        "print (f'A parte inteira da divisão 10 por 3 é: {idiv}')"
      ],
      "metadata": {
        "colab": {
          "base_uri": "https://localhost:8080/"
        },
        "id": "Z0mz_yh-FnoX",
        "outputId": "831c8077-4777-4a5c-fe85-cfc3f87904f3"
      },
      "execution_count": null,
      "outputs": [
        {
          "output_type": "stream",
          "name": "stdout",
          "text": [
            "A parte inteira da divisão 10 por 3 é: 3\n"
          ]
        }
      ]
    },
    {
      "cell_type": "code",
      "source": [
        "# Operador de potenciação\n",
        "pot = 3 ** 2 # três ao quadrado\n",
        "print (pot)"
      ],
      "metadata": {
        "colab": {
          "base_uri": "https://localhost:8080/"
        },
        "id": "ARJfkBaiGg1B",
        "outputId": "807b158c-e090-40d3-89e1-a81aba784d88"
      },
      "execution_count": null,
      "outputs": [
        {
          "output_type": "stream",
          "name": "stdout",
          "text": [
            "9\n"
          ]
        }
      ]
    },
    {
      "cell_type": "code",
      "source": [
        "# Outro exemplo\n",
        "pow(3,2)"
      ],
      "metadata": {
        "colab": {
          "base_uri": "https://localhost:8080/"
        },
        "id": "IaFpTpqZHFq5",
        "outputId": "a3982d3a-e662-4785-8441-17a885117ac6"
      },
      "execution_count": null,
      "outputs": [
        {
          "output_type": "execute_result",
          "data": {
            "text/plain": [
              "9"
            ]
          },
          "metadata": {},
          "execution_count": 15
        }
      ]
    },
    {
      "cell_type": "code",
      "source": [
        "# Radiciação\n",
        "import math"
      ],
      "metadata": {
        "id": "M4gTAodIHSu6"
      },
      "execution_count": null,
      "outputs": []
    },
    {
      "cell_type": "code",
      "source": [
        "# Calculando raiz quadrada de 144\n",
        "math.sqrt(144)"
      ],
      "metadata": {
        "colab": {
          "base_uri": "https://localhost:8080/"
        },
        "id": "Na2q54C8Hx8d",
        "outputId": "a09d5512-8914-45f4-8881-f0a7abb6b759"
      },
      "execution_count": null,
      "outputs": [
        {
          "output_type": "execute_result",
          "data": {
            "text/plain": [
              "12.0"
            ]
          },
          "metadata": {},
          "execution_count": 17
        }
      ]
    },
    {
      "cell_type": "code",
      "source": [
        "# Sugestão\n",
        "d = math.sqrt(144)\n",
        "d = int(d)\n",
        "d"
      ],
      "metadata": {
        "colab": {
          "base_uri": "https://localhost:8080/"
        },
        "id": "2XrV3EgaIXp3",
        "outputId": "1d9601ee-bf8e-4150-b713-06453499aba3"
      },
      "execution_count": null,
      "outputs": [
        {
          "output_type": "execute_result",
          "data": {
            "text/plain": [
              "12"
            ]
          },
          "metadata": {},
          "execution_count": 18
        }
      ]
    },
    {
      "cell_type": "markdown",
      "source": [
        "## **Operadores de Comparação (Booleanos)**:"
      ],
      "metadata": {
        "id": "3ssqkjPlIsZD"
      }
    },
    {
      "cell_type": "code",
      "source": [
        "# (==) verifica se dois valores são iguais ( retorna com resposa Tru ou False)\n",
        "a = 3\n",
        "b = 3.0\n",
        "teste1 = a == b\n",
        "print(teste1)"
      ],
      "metadata": {
        "colab": {
          "base_uri": "https://localhost:8080/"
        },
        "id": "mRQrFq6tI0WM",
        "outputId": "3ead8085-1b0f-47cf-fda9-f3fa524107bd"
      },
      "execution_count": null,
      "outputs": [
        {
          "output_type": "stream",
          "name": "stdout",
          "text": [
            "True\n"
          ]
        }
      ]
    },
    {
      "cell_type": "code",
      "source": [
        "# As comparações podem ser feitas com variáveis do tipo String\n",
        "teste2 = 'fran' == 'Fran'\n",
        "print(teste2)"
      ],
      "metadata": {
        "colab": {
          "base_uri": "https://localhost:8080/"
        },
        "id": "WT82iMf3J8YH",
        "outputId": "0beb6b4d-eee3-413d-f4ef-e998086a9246"
      },
      "execution_count": null,
      "outputs": [
        {
          "output_type": "stream",
          "name": "stdout",
          "text": [
            "False\n"
          ]
        }
      ]
    },
    {
      "cell_type": "code",
      "source": [
        "# (!=) Verifica se dois valores são diferentes (retorna True ou False)\n",
        "a = 3\n",
        "b = 3.0\n",
        "teste3 = a != b\n",
        "print(teste3)"
      ],
      "metadata": {
        "colab": {
          "base_uri": "https://localhost:8080/"
        },
        "id": "xj_r2BmJKxU_",
        "outputId": "7fbe9848-5729-4f45-a067-1a432d7cfc5e"
      },
      "execution_count": null,
      "outputs": [
        {
          "output_type": "stream",
          "name": "stdout",
          "text": [
            "False\n"
          ]
        }
      ]
    },
    {
      "cell_type": "code",
      "source": [
        "# (>) Verifica se um valor é maior que o outro\n",
        "teste4 = 3 > 2\n",
        "print(teste4)"
      ],
      "metadata": {
        "colab": {
          "base_uri": "https://localhost:8080/"
        },
        "id": "uIF43Iy_LYE8",
        "outputId": "7586a817-da47-459b-a7dc-05b41a7cbac3"
      },
      "execution_count": null,
      "outputs": [
        {
          "output_type": "stream",
          "name": "stdout",
          "text": [
            "True\n"
          ]
        }
      ]
    },
    {
      "cell_type": "code",
      "source": [
        "# (>=) Verifica se um valor é maior ou igual ao outro\n",
        "teste5 = 3 >= 3\n",
        "print(teste5)"
      ],
      "metadata": {
        "colab": {
          "base_uri": "https://localhost:8080/"
        },
        "id": "FaGQtb0QMkXj",
        "outputId": "970170fc-0785-4671-d131-42dcff7aecad"
      },
      "execution_count": null,
      "outputs": [
        {
          "output_type": "stream",
          "name": "stdout",
          "text": [
            "True\n"
          ]
        }
      ]
    },
    {
      "cell_type": "code",
      "source": [
        "# (<) Verifica se um valor é menor que o outro\n",
        "teste6 = 2 < 2\n",
        "print(teste6)"
      ],
      "metadata": {
        "colab": {
          "base_uri": "https://localhost:8080/"
        },
        "id": "sLCWnOFrM1E-",
        "outputId": "5070cff7-1215-4143-cdc1-24ea5e1f7d33"
      },
      "execution_count": null,
      "outputs": [
        {
          "output_type": "stream",
          "name": "stdout",
          "text": [
            "False\n"
          ]
        }
      ]
    },
    {
      "cell_type": "code",
      "source": [
        "# (<=) Verifica se um valor é menor ou igual ao outro\n",
        "teste7 = 2 <= 2\n",
        "print(teste7)"
      ],
      "metadata": {
        "colab": {
          "base_uri": "https://localhost:8080/"
        },
        "id": "eCC7j6zvND3-",
        "outputId": "7e686142-cb29-4d14-c488-eb7e9db4e116"
      },
      "execution_count": null,
      "outputs": [
        {
          "output_type": "stream",
          "name": "stdout",
          "text": [
            "True\n"
          ]
        }
      ]
    },
    {
      "cell_type": "markdown",
      "source": [
        "## **Operadores de Atribuição**"
      ],
      "metadata": {
        "id": "cRa5GqMPRqGE"
      }
    },
    {
      "cell_type": "code",
      "source": [
        "# (=) Atribuição direta: atribui ao lado esquerdo do sinal um valor à variável\n",
        "nome = 'Marcia'\n",
        "peso = 77\n",
        "altura = 1.60"
      ],
      "metadata": {
        "id": "MQP0Y_QhR1Co"
      },
      "execution_count": null,
      "outputs": []
    },
    {
      "cell_type": "code",
      "source": [
        "# (+=) Atribuição de soma: equivale a x = x + y\n",
        "# Crie uma variável t que receba o número inteiro 3 e depois some 1 para essa variável\n",
        "\n",
        "t = 3\n",
        "t = t + 1\n",
        "print('O resultado de t + 1 é: ', t)"
      ],
      "metadata": {
        "colab": {
          "base_uri": "https://localhost:8080/"
        },
        "id": "6GIn93XTSH80",
        "outputId": "b992f4b9-0669-4021-e84d-770dfe188784"
      },
      "execution_count": null,
      "outputs": [
        {
          "output_type": "stream",
          "name": "stdout",
          "text": [
            "O resultado de t + 1 é:  4\n"
          ]
        }
      ]
    },
    {
      "cell_type": "code",
      "source": [
        "# Outro exemplo\n",
        "t = 3\n",
        "t = 3 + 1\n",
        "print(t)"
      ],
      "metadata": {
        "colab": {
          "base_uri": "https://localhost:8080/"
        },
        "id": "mgXVOhRMUDW5",
        "outputId": "daaa10cd-0d6b-45ed-b8fa-af9e3921fb15"
      },
      "execution_count": null,
      "outputs": [
        {
          "output_type": "stream",
          "name": "stdout",
          "text": [
            "4\n"
          ]
        }
      ]
    },
    {
      "cell_type": "code",
      "source": [
        "# Modo utilizando o operador de atribuição soma\n",
        "t = 3\n",
        "t += 1\n",
        "print(t)"
      ],
      "metadata": {
        "colab": {
          "base_uri": "https://localhost:8080/"
        },
        "id": "sGAKsU5YUPq-",
        "outputId": "553b6004-a373-41c8-d849-0e92901941c1"
      },
      "execution_count": null,
      "outputs": [
        {
          "output_type": "stream",
          "name": "stdout",
          "text": [
            "4\n"
          ]
        }
      ]
    },
    {
      "cell_type": "code",
      "source": [
        "# (-=) Atribuição de subtração\n",
        "# Crie uma variável z que receba o número inteiro 5 e depois diminua 2 para essa variável\n",
        "\n",
        "z = 5\n",
        "z -= 2\n",
        "print(z)"
      ],
      "metadata": {
        "colab": {
          "base_uri": "https://localhost:8080/"
        },
        "id": "6026HfhWUwTR",
        "outputId": "b30477dc-5b1a-423d-b696-b3c8c5bc0c46"
      },
      "execution_count": null,
      "outputs": [
        {
          "output_type": "stream",
          "name": "stdout",
          "text": [
            "3\n"
          ]
        }
      ]
    },
    {
      "cell_type": "code",
      "source": [
        "# (*=) Atribuição de multiplicação\n",
        "# Crie uma variável j que receba o número 5 e multiplique por 2\n",
        "\n",
        "j = 5\n",
        "j *= 2\n",
        "print(j)"
      ],
      "metadata": {
        "colab": {
          "base_uri": "https://localhost:8080/"
        },
        "id": "gSaDjoQnWSue",
        "outputId": "f0108559-62a9-4706-a650-2785dacdd3b9"
      },
      "execution_count": null,
      "outputs": [
        {
          "output_type": "stream",
          "name": "stdout",
          "text": [
            "10\n"
          ]
        }
      ]
    },
    {
      "cell_type": "code",
      "source": [
        "# (/=) Atribuição de divisão\n",
        "\n",
        "\n",
        "k = 6\n",
        "k /= 2\n",
        "print(k)"
      ],
      "metadata": {
        "colab": {
          "base_uri": "https://localhost:8080/"
        },
        "id": "GvnxxrvZXoTv",
        "outputId": "29bde6bb-81ee-4739-9dca-ccb3cc1820a1"
      },
      "execution_count": null,
      "outputs": [
        {
          "output_type": "stream",
          "name": "stdout",
          "text": [
            "3.0\n"
          ]
        }
      ]
    },
    {
      "cell_type": "code",
      "source": [
        "# (%=) Atribuição do resto da divisão\n",
        "# Crie uma variável b que receba 7 e depois receba o resto da divisão por 2.\n",
        "\n",
        "b = 7\n",
        "b %= 2\n",
        "print(b)\n"
      ],
      "metadata": {
        "colab": {
          "base_uri": "https://localhost:8080/"
        },
        "id": "QmZn7MHNYYPO",
        "outputId": "510e6181-cb0d-44c4-af69-891b659fc223"
      },
      "execution_count": null,
      "outputs": [
        {
          "output_type": "stream",
          "name": "stdout",
          "text": [
            "1\n"
          ]
        }
      ]
    },
    {
      "cell_type": "markdown",
      "source": [
        "## **Operadores Lógicos**"
      ],
      "metadata": {
        "id": "u8bYHmWdaJwL"
      }
    },
    {
      "cell_type": "code",
      "source": [
        "# (AND) retorna verdadeiro somente se TODAS as condições forem verdadeiras\n",
        "\n",
        "teste8 = 3 >= 2 and 3 != 2 and 3 < 4\n",
        "print(teste8)"
      ],
      "metadata": {
        "colab": {
          "base_uri": "https://localhost:8080/"
        },
        "id": "qN9dIdspaNXT",
        "outputId": "042687a4-88bc-46ad-cc0c-baec4f7e7fc5"
      },
      "execution_count": null,
      "outputs": [
        {
          "output_type": "stream",
          "name": "stdout",
          "text": [
            "True\n"
          ]
        }
      ]
    },
    {
      "cell_type": "code",
      "source": [
        "# (&) é o mesmo que 'AND'. Retorna verdadeiro se TODAS forem verdadeiras\n",
        "\n",
        "teste9 = (3 >= 2) & (3 != 2) & (3 < 4)\n",
        "print(teste9)"
      ],
      "metadata": {
        "colab": {
          "base_uri": "https://localhost:8080/"
        },
        "id": "MPF_cO9ogr8g",
        "outputId": "dd50bd3b-298b-4027-8347-24317e7586f9"
      },
      "execution_count": null,
      "outputs": [
        {
          "output_type": "stream",
          "name": "stdout",
          "text": [
            "True\n"
          ]
        }
      ]
    },
    {
      "cell_type": "code",
      "source": [
        "# (OR) retorna verdadeiro se pelo menos uma condição for verdadeira\n",
        "\n",
        "teste10 = 3 >= 2 or 3 == 2 and 3 > 4\n",
        "print(teste10)"
      ],
      "metadata": {
        "colab": {
          "base_uri": "https://localhost:8080/"
        },
        "id": "h5tHgmkjiDjB",
        "outputId": "db355149-bf1b-4afb-bc36-dc4fd9d37694"
      },
      "execution_count": null,
      "outputs": [
        {
          "output_type": "stream",
          "name": "stdout",
          "text": [
            "True\n"
          ]
        }
      ]
    },
    {
      "cell_type": "code",
      "source": [
        "# (|) é o mesmo que o OR\n",
        "\n",
        "teste11 = (3 >= 2) | (3 == 2) | (3 > 4)\n",
        "print(teste11)"
      ],
      "metadata": {
        "colab": {
          "base_uri": "https://localhost:8080/"
        },
        "id": "2K17gog-i2zB",
        "outputId": "a2eb0c24-9fe1-4e00-e310-a45df0c81565"
      },
      "execution_count": null,
      "outputs": [
        {
          "output_type": "stream",
          "name": "stdout",
          "text": [
            "True\n"
          ]
        }
      ]
    },
    {
      "cell_type": "markdown",
      "source": [
        "## **Conversão de Valores**"
      ],
      "metadata": {
        "id": "ZU_63o8AkFvs"
      }
    },
    {
      "cell_type": "code",
      "source": [
        "# Conversão de int para float\n",
        "\n",
        "num_int = 10\n",
        "num_float = float(num_int)"
      ],
      "metadata": {
        "id": "l2pHvrxLkJHE"
      },
      "execution_count": null,
      "outputs": []
    },
    {
      "cell_type": "code",
      "source": [
        "# Chegando a conversão\n",
        "print(type(num_int))\n",
        "print(type(num_float))"
      ],
      "metadata": {
        "colab": {
          "base_uri": "https://localhost:8080/"
        },
        "id": "OzquFzfnllEx",
        "outputId": "92d91a7e-744c-42e5-b1dc-f83a1fee1f56"
      },
      "execution_count": null,
      "outputs": [
        {
          "output_type": "stream",
          "name": "stdout",
          "text": [
            "<class 'int'>\n",
            "<class 'float'>\n"
          ]
        }
      ]
    },
    {
      "cell_type": "code",
      "source": [
        "# Checando se tranformamos de 10 para 10.0\n",
        "\n",
        "print(num_float)"
      ],
      "metadata": {
        "colab": {
          "base_uri": "https://localhost:8080/"
        },
        "id": "kc_vybKdl2cR",
        "outputId": "c3eb4e40-7ab8-4ff7-c962-35d6c9375eef"
      },
      "execution_count": null,
      "outputs": [
        {
          "output_type": "stream",
          "name": "stdout",
          "text": [
            "10.0\n"
          ]
        }
      ]
    },
    {
      "cell_type": "code",
      "source": [
        "# Conversão de int para string\n",
        "num_int = 10\n",
        "num_str = str(num_int)"
      ],
      "metadata": {
        "id": "aFVkxIcEmqmD"
      },
      "execution_count": null,
      "outputs": []
    },
    {
      "cell_type": "code",
      "source": [
        "# Chegando a conversão\n",
        "print(type(num_int))\n",
        "print(type(num_str))"
      ],
      "metadata": {
        "colab": {
          "base_uri": "https://localhost:8080/"
        },
        "id": "E-HuYn2am9pQ",
        "outputId": "2f0dfe00-82d7-4f7d-c2c7-176dd5131f34"
      },
      "execution_count": null,
      "outputs": [
        {
          "output_type": "stream",
          "name": "stdout",
          "text": [
            "<class 'int'>\n",
            "<class 'str'>\n"
          ]
        }
      ]
    },
    {
      "cell_type": "code",
      "source": [
        "# Checando se tranformamos de 10 para '10'\n",
        "\n",
        "print(num_str)"
      ],
      "metadata": {
        "colab": {
          "base_uri": "https://localhost:8080/"
        },
        "id": "m2cyUYKsnBD0",
        "outputId": "f63c1215-950f-4158-ceb4-73d6ebd042a8"
      },
      "execution_count": null,
      "outputs": [
        {
          "output_type": "stream",
          "name": "stdout",
          "text": [
            "10\n"
          ]
        }
      ]
    },
    {
      "cell_type": "code",
      "source": [
        "# Conversão de float para int\n",
        "\n",
        "num_float = 10.5\n",
        "num_int = int(num_float)"
      ],
      "metadata": {
        "id": "cBE3Tc6Fn3ZT"
      },
      "execution_count": null,
      "outputs": []
    },
    {
      "cell_type": "code",
      "source": [
        "# Checando a conversão\n",
        "print(type(num_float))\n",
        "print(type(num_int))"
      ],
      "metadata": {
        "colab": {
          "base_uri": "https://localhost:8080/"
        },
        "id": "q2fae-dvoH2X",
        "outputId": "28f7fddf-f1e3-4c9c-bbfa-40094477b81e"
      },
      "execution_count": null,
      "outputs": [
        {
          "output_type": "stream",
          "name": "stdout",
          "text": [
            "<class 'float'>\n",
            "<class 'int'>\n"
          ]
        }
      ]
    },
    {
      "cell_type": "code",
      "source": [
        "# Checando se transformamos\n",
        "print(num_int)"
      ],
      "metadata": {
        "colab": {
          "base_uri": "https://localhost:8080/"
        },
        "id": "7ztJgPB9oSTL",
        "outputId": "c189aab2-61ef-4f69-9a12-0e7e1e36d2e0"
      },
      "execution_count": null,
      "outputs": [
        {
          "output_type": "stream",
          "name": "stdout",
          "text": [
            "10\n"
          ]
        }
      ]
    }
  ]
}